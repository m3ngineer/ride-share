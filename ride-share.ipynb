{
 "cells": [
  {
   "cell_type": "markdown",
   "metadata": {},
   "source": [
    "# Predicting churn for a ride-sharing company\n",
    "\n",
    "A ride-sharing company (Company X) is interested in predicting rider retention. In order to determine whether a user would churn, a sample dataset of users who signed up for an account during January 2014 was used in order to model rider behavior. Data was pulled on July 1, 2014.\n",
    "\n",
    "## About the data\n",
    "Users were considered 'active' if they had taken a trip in the 30 days prior to data extraction (July 1).\n",
    "\n",
    "As data is proprietary, it has not been included in this repository.\n",
    "\n",
    "The goal of this analysis was the understand which factors are the suitable predictors for retaining users and produce suggestions for retaining users."
   ]
  },
  {
   "cell_type": "code",
   "execution_count": 129,
   "metadata": {},
   "outputs": [
    {
     "name": "stdout",
     "output_type": "stream",
     "text": [
      "The autoreload extension is already loaded. To reload it, use:\n",
      "  %reload_ext autoreload\n"
     ]
    }
   ],
   "source": [
    "%load_ext autoreload\n",
    "%autoreload 2\n",
    "%matplotlib inline"
   ]
  },
  {
   "cell_type": "code",
   "execution_count": 130,
   "metadata": {
    "collapsed": true
   },
   "outputs": [],
   "source": [
    "import pandas as pd\n",
    "import numpy as np\n",
    "import matplotlib.pyplot as plt\n",
    "import seaborn as sns\n",
    "from sklearn.model_selection import KFold, cross_val_score, train_test_split, GridSearchCV\n",
    "from sklearn.ensemble import RandomForestClassifier, GradientBoostingClassifier\n",
    "from sklearn.metrics import precision_score, recall_score, accuracy_score, roc_curve, auc\n",
    "from sklearn.neighbors import KNeighborsClassifier\n",
    "from sklearn.linear_model import LogisticRegression\n",
    "from src.ensemble import EnsembleModel\n",
    "from sklearn.pipeline import Pipeline\n",
    "from sklearn.preprocessing import FunctionTransformer\n",
    "from sklearn.svm import SVC\n",
    "\n",
    "plt.style.use('ggplot')"
   ]
  },
  {
   "cell_type": "markdown",
   "metadata": {},
   "source": [
    "## Preliminary data analysis and cleaning\n",
    "\n",
    "Initial observation of the provided dataset shows 12 features by 40,000 entries."
   ]
  },
  {
   "cell_type": "code",
   "execution_count": 158,
   "metadata": {
    "scrolled": false
   },
   "outputs": [
    {
     "data": {
      "text/html": [
       "<div>\n",
       "<style>\n",
       "    .dataframe thead tr:only-child th {\n",
       "        text-align: right;\n",
       "    }\n",
       "\n",
       "    .dataframe thead th {\n",
       "        text-align: left;\n",
       "    }\n",
       "\n",
       "    .dataframe tbody tr th {\n",
       "        vertical-align: top;\n",
       "    }\n",
       "</style>\n",
       "<table border=\"1\" class=\"dataframe\">\n",
       "  <thead>\n",
       "    <tr style=\"text-align: right;\">\n",
       "      <th></th>\n",
       "      <th>avg_dist</th>\n",
       "      <th>avg_rating_by_driver</th>\n",
       "      <th>avg_rating_of_driver</th>\n",
       "      <th>avg_surge</th>\n",
       "      <th>city</th>\n",
       "      <th>last_trip_date</th>\n",
       "      <th>phone</th>\n",
       "      <th>signup_date</th>\n",
       "      <th>surge_pct</th>\n",
       "      <th>trips_in_first_30_days</th>\n",
       "      <th>luxury_car_user</th>\n",
       "      <th>weekday_pct</th>\n",
       "    </tr>\n",
       "  </thead>\n",
       "  <tbody>\n",
       "    <tr>\n",
       "      <th>0</th>\n",
       "      <td>6.94</td>\n",
       "      <td>5.0</td>\n",
       "      <td>5.0</td>\n",
       "      <td>1.00</td>\n",
       "      <td>Astapor</td>\n",
       "      <td>2014-05-03</td>\n",
       "      <td>Android</td>\n",
       "      <td>2014-01-12</td>\n",
       "      <td>0.0</td>\n",
       "      <td>0</td>\n",
       "      <td>False</td>\n",
       "      <td>100.0</td>\n",
       "    </tr>\n",
       "    <tr>\n",
       "      <th>1</th>\n",
       "      <td>8.06</td>\n",
       "      <td>5.0</td>\n",
       "      <td>5.0</td>\n",
       "      <td>1.00</td>\n",
       "      <td>Astapor</td>\n",
       "      <td>2014-01-26</td>\n",
       "      <td>Android</td>\n",
       "      <td>2014-01-25</td>\n",
       "      <td>0.0</td>\n",
       "      <td>2</td>\n",
       "      <td>True</td>\n",
       "      <td>0.0</td>\n",
       "    </tr>\n",
       "    <tr>\n",
       "      <th>2</th>\n",
       "      <td>21.50</td>\n",
       "      <td>4.0</td>\n",
       "      <td>NaN</td>\n",
       "      <td>1.00</td>\n",
       "      <td>Winterfell</td>\n",
       "      <td>2014-05-21</td>\n",
       "      <td>iPhone</td>\n",
       "      <td>2014-01-02</td>\n",
       "      <td>0.0</td>\n",
       "      <td>1</td>\n",
       "      <td>True</td>\n",
       "      <td>100.0</td>\n",
       "    </tr>\n",
       "    <tr>\n",
       "      <th>3</th>\n",
       "      <td>9.46</td>\n",
       "      <td>5.0</td>\n",
       "      <td>NaN</td>\n",
       "      <td>2.75</td>\n",
       "      <td>Winterfell</td>\n",
       "      <td>2014-01-10</td>\n",
       "      <td>Android</td>\n",
       "      <td>2014-01-09</td>\n",
       "      <td>100.0</td>\n",
       "      <td>1</td>\n",
       "      <td>False</td>\n",
       "      <td>100.0</td>\n",
       "    </tr>\n",
       "    <tr>\n",
       "      <th>4</th>\n",
       "      <td>13.77</td>\n",
       "      <td>5.0</td>\n",
       "      <td>NaN</td>\n",
       "      <td>1.00</td>\n",
       "      <td>Winterfell</td>\n",
       "      <td>2014-05-13</td>\n",
       "      <td>iPhone</td>\n",
       "      <td>2014-01-31</td>\n",
       "      <td>0.0</td>\n",
       "      <td>0</td>\n",
       "      <td>False</td>\n",
       "      <td>100.0</td>\n",
       "    </tr>\n",
       "  </tbody>\n",
       "</table>\n",
       "</div>"
      ],
      "text/plain": [
       "   avg_dist  avg_rating_by_driver  avg_rating_of_driver  avg_surge  \\\n",
       "0      6.94                   5.0                   5.0       1.00   \n",
       "1      8.06                   5.0                   5.0       1.00   \n",
       "2     21.50                   4.0                   NaN       1.00   \n",
       "3      9.46                   5.0                   NaN       2.75   \n",
       "4     13.77                   5.0                   NaN       1.00   \n",
       "\n",
       "         city last_trip_date    phone signup_date  surge_pct  \\\n",
       "0     Astapor     2014-05-03  Android  2014-01-12        0.0   \n",
       "1     Astapor     2014-01-26  Android  2014-01-25        0.0   \n",
       "2  Winterfell     2014-05-21   iPhone  2014-01-02        0.0   \n",
       "3  Winterfell     2014-01-10  Android  2014-01-09      100.0   \n",
       "4  Winterfell     2014-05-13   iPhone  2014-01-31        0.0   \n",
       "\n",
       "   trips_in_first_30_days  luxury_car_user  weekday_pct  \n",
       "0                       0            False        100.0  \n",
       "1                       2             True          0.0  \n",
       "2                       1             True        100.0  \n",
       "3                       1            False        100.0  \n",
       "4                       0            False        100.0  "
      ]
     },
     "execution_count": 158,
     "metadata": {},
     "output_type": "execute_result"
    }
   ],
   "source": [
    "churn = pd.read_csv('data/churn_train.csv')\n",
    "churn.head()"
   ]
  },
  {
   "cell_type": "markdown",
   "metadata": {},
   "source": [
    "The variables from this dataset are defined as below:\n",
    "\n",
    "__city:__ city this user signed up in <br> \n",
    "__phone:__ primary device for this user <br>\n",
    "__signup_date:__ date of account registration; in the form `YYYYMMDD` <br>\n",
    "__last_trip_date:__ the last time this user completed a trip; in the form `YYYYMMDD` <br>\n",
    "__avg_dist:__ the average distance (in miles) per trip taken in the first 30 days after signup <br>\n",
    "__avg_rating_by_driver:__ the rider’s average rating over all of their trips <br>\n",
    "__avg_rating_of_driver:__ the rider’s average rating of their drivers over all of their trips <br>\n",
    "__surge_pct:__ the percent of trips taken with surge multiplier > 1 <br>\n",
    "__avg_surge:__ The average surge multiplier over all of this user’s trips <br>\n",
    "__trips_in_first_30_days:__ the number of trips this user took in the first 30 days after signing up <br>\n",
    "__luxury_car_user:__ TRUE if the user took a luxury car in their first 30 days; FALSE otherwise <br>\n",
    "__weekday_pct:__ the percent of the user’s trips occurring during a weekday <br>"
   ]
  },
  {
   "cell_type": "markdown",
   "metadata": {
    "collapsed": true
   },
   "source": [
    "### Cleaning of data\n",
    "\n",
    "Observation of the first few rows of data show that there are several missing values for `avg_rating_of_driver`. Using `churn.info()`, we see that of our 12 features, 3 of these columns have null values: \n",
    "\n",
    "    avg_rating_by_driver\n",
    "    avg_rating_of_driver\n",
    "    phone`\n",
    "    \n",
    "For the first 2 features, this may be because drivers and users did not rate their rider and driver, respectively. To keep these users, we can impute these null values with the mean rating for each driver:\n",
    "\n",
    "    df['avg_rating_by_driver'].fillna(0.0, inplace=True)\n",
    "    df['avg_rating_of_driver'].fillna(0.0, inplace=True)"
   ]
  },
  {
   "cell_type": "code",
   "execution_count": 132,
   "metadata": {},
   "outputs": [
    {
     "name": "stdout",
     "output_type": "stream",
     "text": [
      "<class 'pandas.core.frame.DataFrame'>\n",
      "RangeIndex: 40000 entries, 0 to 39999\n",
      "Data columns (total 12 columns):\n",
      "avg_dist                  40000 non-null float64\n",
      "avg_rating_by_driver      39838 non-null float64\n",
      "avg_rating_of_driver      33472 non-null float64\n",
      "avg_surge                 40000 non-null float64\n",
      "city                      40000 non-null object\n",
      "last_trip_date            40000 non-null object\n",
      "phone                     39681 non-null object\n",
      "signup_date               40000 non-null object\n",
      "surge_pct                 40000 non-null float64\n",
      "trips_in_first_30_days    40000 non-null int64\n",
      "luxury_car_user           40000 non-null bool\n",
      "weekday_pct               40000 non-null float64\n",
      "dtypes: bool(1), float64(6), int64(1), object(4)\n",
      "memory usage: 3.4+ MB\n"
     ]
    }
   ],
   "source": [
    "churn.info()"
   ]
  },
  {
   "cell_type": "markdown",
   "metadata": {},
   "source": [
    "Observing values `phone`, we see that the only values are `Android`, `iPhone`, and `nan`. We can make a new variable called `unknown` to capture these users.\n",
    "\n",
    "    df['phone'].fillna(value='Unknown', inplace=True)"
   ]
  },
  {
   "cell_type": "code",
   "execution_count": 133,
   "metadata": {},
   "outputs": [
    {
     "data": {
      "text/plain": [
       "array(['Android', 'iPhone', nan], dtype=object)"
      ]
     },
     "execution_count": 133,
     "metadata": {},
     "output_type": "execute_result"
    }
   ],
   "source": [
    "churn['phone'].unique()"
   ]
  },
  {
   "cell_type": "markdown",
   "metadata": {},
   "source": [
    "As drivers and users who did not have ratings may be a factor in retention, I engineered new boolean features to capture whether the trip consisted of a driver or user being rated. Categorical variables such as `city` and `phone` were transformed into binary dummy variables.\n",
    "\n",
    "Finally, to create our target label, churn was defined as whether the last trip taken was before 30 days since the data was extracted (June 1, 2014). "
   ]
  },
  {
   "cell_type": "code",
   "execution_count": 155,
   "metadata": {
    "collapsed": true
   },
   "outputs": [],
   "source": [
    "def clean_data(df):\n",
    "    df['phone'].fillna(value='Unknown', inplace=True)\n",
    "    df['last_trip_date'] = pd.to_datetime(df['last_trip_date'])\n",
    "\n",
    "    df['churn'] = df['last_trip_date'] < '2014-06-01'\n",
    "\n",
    "    df['no_rating_by_driver'] = df['avg_rating_by_driver'].isnull()\n",
    "    df['signup_date'] = pd.to_datetime(df['signup_date'])\n",
    "    df['signup_date'] = pd.to_numeric(df['signup_date'])\n",
    "    df.drop('signup_date', axis=1, inplace=True)\n",
    "\n",
    "    mean_rating_by_driver = df['avg_rating_by_driver'].mean()\n",
    "    mean_rating_of_driver = df['avg_rating_of_driver'].mean()\n",
    "    df['avg_rating_of_driver'].fillna(mean_rating_of_driver, inplace=True)\n",
    "    df['avg_rating_by_driver'].fillna(mean_rating_by_driver, inplace=True)\n",
    "    df['last_trip_date'] = pd.to_numeric(df['last_trip_date'])\n",
    "\n",
    "    df = pd.get_dummies(df)\n",
    "\n",
    "    y = df['churn'].values\n",
    "    df.drop(['churn', 'last_trip_date'], axis=1, inplace=True)    \n",
    "    X = df.values\n",
    "\n",
    "    return df, X, y"
   ]
  },
  {
   "cell_type": "code",
   "execution_count": 159,
   "metadata": {},
   "outputs": [
    {
     "data": {
      "text/html": [
       "<div>\n",
       "<style>\n",
       "    .dataframe thead tr:only-child th {\n",
       "        text-align: right;\n",
       "    }\n",
       "\n",
       "    .dataframe thead th {\n",
       "        text-align: left;\n",
       "    }\n",
       "\n",
       "    .dataframe tbody tr th {\n",
       "        vertical-align: top;\n",
       "    }\n",
       "</style>\n",
       "<table border=\"1\" class=\"dataframe\">\n",
       "  <thead>\n",
       "    <tr style=\"text-align: right;\">\n",
       "      <th></th>\n",
       "      <th>avg_dist</th>\n",
       "      <th>avg_rating_by_driver</th>\n",
       "      <th>avg_rating_of_driver</th>\n",
       "      <th>avg_surge</th>\n",
       "      <th>surge_pct</th>\n",
       "      <th>trips_in_first_30_days</th>\n",
       "      <th>luxury_car_user</th>\n",
       "      <th>weekday_pct</th>\n",
       "      <th>no_rating_by_driver</th>\n",
       "      <th>city_Astapor</th>\n",
       "      <th>city_King's Landing</th>\n",
       "      <th>city_Winterfell</th>\n",
       "      <th>phone_Android</th>\n",
       "      <th>phone_Unknown</th>\n",
       "      <th>phone_iPhone</th>\n",
       "    </tr>\n",
       "  </thead>\n",
       "  <tbody>\n",
       "    <tr>\n",
       "      <th>0</th>\n",
       "      <td>6.94</td>\n",
       "      <td>5.0</td>\n",
       "      <td>5.000000</td>\n",
       "      <td>1.00</td>\n",
       "      <td>0.0</td>\n",
       "      <td>0</td>\n",
       "      <td>False</td>\n",
       "      <td>100.0</td>\n",
       "      <td>False</td>\n",
       "      <td>1</td>\n",
       "      <td>0</td>\n",
       "      <td>0</td>\n",
       "      <td>1</td>\n",
       "      <td>0</td>\n",
       "      <td>0</td>\n",
       "    </tr>\n",
       "    <tr>\n",
       "      <th>1</th>\n",
       "      <td>8.06</td>\n",
       "      <td>5.0</td>\n",
       "      <td>5.000000</td>\n",
       "      <td>1.00</td>\n",
       "      <td>0.0</td>\n",
       "      <td>2</td>\n",
       "      <td>True</td>\n",
       "      <td>0.0</td>\n",
       "      <td>False</td>\n",
       "      <td>1</td>\n",
       "      <td>0</td>\n",
       "      <td>0</td>\n",
       "      <td>1</td>\n",
       "      <td>0</td>\n",
       "      <td>0</td>\n",
       "    </tr>\n",
       "    <tr>\n",
       "      <th>2</th>\n",
       "      <td>21.50</td>\n",
       "      <td>4.0</td>\n",
       "      <td>4.601697</td>\n",
       "      <td>1.00</td>\n",
       "      <td>0.0</td>\n",
       "      <td>1</td>\n",
       "      <td>True</td>\n",
       "      <td>100.0</td>\n",
       "      <td>False</td>\n",
       "      <td>0</td>\n",
       "      <td>0</td>\n",
       "      <td>1</td>\n",
       "      <td>0</td>\n",
       "      <td>0</td>\n",
       "      <td>1</td>\n",
       "    </tr>\n",
       "    <tr>\n",
       "      <th>3</th>\n",
       "      <td>9.46</td>\n",
       "      <td>5.0</td>\n",
       "      <td>4.601697</td>\n",
       "      <td>2.75</td>\n",
       "      <td>100.0</td>\n",
       "      <td>1</td>\n",
       "      <td>False</td>\n",
       "      <td>100.0</td>\n",
       "      <td>False</td>\n",
       "      <td>0</td>\n",
       "      <td>0</td>\n",
       "      <td>1</td>\n",
       "      <td>1</td>\n",
       "      <td>0</td>\n",
       "      <td>0</td>\n",
       "    </tr>\n",
       "    <tr>\n",
       "      <th>4</th>\n",
       "      <td>13.77</td>\n",
       "      <td>5.0</td>\n",
       "      <td>4.601697</td>\n",
       "      <td>1.00</td>\n",
       "      <td>0.0</td>\n",
       "      <td>0</td>\n",
       "      <td>False</td>\n",
       "      <td>100.0</td>\n",
       "      <td>False</td>\n",
       "      <td>0</td>\n",
       "      <td>0</td>\n",
       "      <td>1</td>\n",
       "      <td>0</td>\n",
       "      <td>0</td>\n",
       "      <td>1</td>\n",
       "    </tr>\n",
       "  </tbody>\n",
       "</table>\n",
       "</div>"
      ],
      "text/plain": [
       "   avg_dist  avg_rating_by_driver  avg_rating_of_driver  avg_surge  surge_pct  \\\n",
       "0      6.94                   5.0              5.000000       1.00        0.0   \n",
       "1      8.06                   5.0              5.000000       1.00        0.0   \n",
       "2     21.50                   4.0              4.601697       1.00        0.0   \n",
       "3      9.46                   5.0              4.601697       2.75      100.0   \n",
       "4     13.77                   5.0              4.601697       1.00        0.0   \n",
       "\n",
       "   trips_in_first_30_days  luxury_car_user  weekday_pct  no_rating_by_driver  \\\n",
       "0                       0            False        100.0                False   \n",
       "1                       2             True          0.0                False   \n",
       "2                       1             True        100.0                False   \n",
       "3                       1            False        100.0                False   \n",
       "4                       0            False        100.0                False   \n",
       "\n",
       "   city_Astapor  city_King's Landing  city_Winterfell  phone_Android  \\\n",
       "0             1                    0                0              1   \n",
       "1             1                    0                0              1   \n",
       "2             0                    0                1              0   \n",
       "3             0                    0                1              1   \n",
       "4             0                    0                1              0   \n",
       "\n",
       "   phone_Unknown  phone_iPhone  \n",
       "0              0             0  \n",
       "1              0             0  \n",
       "2              0             1  \n",
       "3              0             0  \n",
       "4              0             1  "
      ]
     },
     "execution_count": 159,
     "metadata": {},
     "output_type": "execute_result"
    }
   ],
   "source": [
    "churn_clean, X, y = clean_data(churn)\n",
    "churn_clean.head()"
   ]
  },
  {
   "cell_type": "markdown",
   "metadata": {},
   "source": [
    "### Exploratory data analysis"
   ]
  },
  {
   "cell_type": "markdown",
   "metadata": {},
   "source": [
    "#### Featues by churn status\n",
    "\n",
    "About 62% of our users have churned since January.\n",
    "\n",
    "Plotting our numerical variables by churn, we can see some preliminary obvious differences in average distance, number of trips within the past 30 days, luxury care usage, and whether users were rated by the driver. "
   ]
  },
  {
   "cell_type": "code",
   "execution_count": 137,
   "metadata": {
    "scrolled": false
   },
   "outputs": [
    {
     "data": {
      "image/png": "[encoded data removed]",
      "text/plain": [
       "<Figure size 1080x576 with 10 Axes>"
      ]
     },
     "metadata": {},
     "output_type": "display_data"
    }
   ],
   "source": [
    "# Numerical variables\n",
    "\n",
    "cols = churn.groupby('churn').mean().columns\n",
    "vals_false = churn.groupby('churn').mean().values[0]\n",
    "vals_true = churn.groupby('churn').mean().values[1]\n",
    "\n",
    "fig = plt.figure(figsize=(15,8))\n",
    "\n",
    "for i, means in enumerate(zip(vals_false, vals_true), 1):\n",
    "    ax = fig.add_subplot(3,4,i)\n",
    "    ax.bar(['False', 'True'], means, color='c', alpha=0.8, width=0.5)\n",
    "    ax.set_title(cols[i-1].replace('_', ' ').capitalize())\n",
    "    if i in [1,5,9]:\n",
    "        ax.set_ylabel('Mean')\n",
    "    if i in [7,8,9,10]:\n",
    "        ax.set_xlabel('User churned')\n",
    "    \n",
    "plt.tight_layout();"
   ]
  },
  {
   "cell_type": "markdown",
   "metadata": {},
   "source": [
    "In plotting these multi-category variables we can differences between cities, android and iphone users, luxury car users, and unrated versus rated users."
   ]
  },
  {
   "cell_type": "code",
   "execution_count": 138,
   "metadata": {},
   "outputs": [
    {
     "data": {
      "image/png": "[encoded data removed]",
      "text/plain": [
       "<Figure size 720x576 with 4 Axes>"
      ]
     },
     "metadata": {},
     "output_type": "display_data"
    }
   ],
   "source": [
    "# Categorical variables\n",
    "feats_cat = ['city',\n",
    "                 'phone',\n",
    "                 'luxury_car_user', \n",
    "                 'no_rating_by_driver']\n",
    "\n",
    "fig = plt.figure(figsize=(10,8))\n",
    "\n",
    "for i, feat in enumerate(feats_cat):\n",
    "    \n",
    "    # Calculate percentage of churn\n",
    "    sums_churn = churn[churn['churn'] == True].groupby(feat)['churn'].count()\n",
    "    totals = churn.groupby(feat)['churn'].count()\n",
    "    perc_churn = pd.DataFrame(sums_churn / totals)\n",
    "    \n",
    "    ax = fig.add_subplot(2,2,i+1)\n",
    "    ax.bar(perc_churn.index, perc_churn.iloc[:,0], color='c', width=0.25)\n",
    "    \n",
    "    if i%2 == 0:\n",
    "        ax.set_ylabel('Churn percentage')\n",
    "    if i in [2,3]:\n",
    "        ax.set_xticks([0.0, 1.0])\n",
    "    ax.set_xlabel(feat.replace('_', ' ').capitalize())\n",
    "\n",
    "    ax.set_title(feat.replace('_', ' ').capitalize())\n",
    "\n",
    "plt.tight_layout(pad=4);"
   ]
  },
  {
   "cell_type": "markdown",
   "metadata": {},
   "source": [
    "#### Users may be using the service for occasional travel\n",
    "\n",
    "Plotting the percentage of weekday trips a user had shows large spikes of users in the churned population. While we do not have information on the total number of trips for each user, we can speculate that users may be taking single or a low number of occasional trips (eg, to the airport for travel). "
   ]
  },
  {
   "cell_type": "code",
   "execution_count": 139,
   "metadata": {},
   "outputs": [
    {
     "data": {
      "image/png": "[encoded data removed]",
      "text/plain": [
       "<Figure size 720x432 with 1 Axes>"
      ]
     },
     "metadata": {},
     "output_type": "display_data"
    }
   ],
   "source": [
    "plt.figure(figsize=(10,6))\n",
    "plt.hist(churn['weekday_pct'][churn['churn'] == 0], alpha=0.5, label='not churn')\n",
    "plt.hist(churn['weekday_pct'][churn['churn'] == 1], alpha=0.5, label='churn')\n",
    "plt.title('Percent weekday trips')\n",
    "plt.xlabel('Percent weekday trips')\n",
    "plt.ylabel('Number users')\n",
    "plt.legend();"
   ]
  },
  {
   "cell_type": "markdown",
   "metadata": {},
   "source": [
    "## Model testing and evaluation\n",
    "\n",
    "To predict user retention, data was modeled using logistic regression, random forest, gradient boosting, k-nearest neighbors, support vector classifier and and ensemble model consisting of all models.\n",
    "\n",
    "I used a series of metrics to evaluate these models, including accuracy, precision, recall, and F1 score.\n",
    "\n",
    "Each model was initally performed on the data out of the box and then evaluated using a grid search of hyperparameters with 5-fold cross validation."
   ]
  },
  {
   "cell_type": "code",
   "execution_count": 142,
   "metadata": {},
   "outputs": [
    {
     "name": "stdout",
     "output_type": "stream",
     "text": [
      "<class 'pandas.core.frame.DataFrame'>\n",
      "RangeIndex: 40000 entries, 0 to 39999\n",
      "Data columns (total 15 columns):\n",
      "avg_dist                  40000 non-null float64\n",
      "avg_rating_by_driver      39838 non-null float64\n",
      "avg_rating_of_driver      40000 non-null float64\n",
      "avg_surge                 40000 non-null float64\n",
      "surge_pct                 40000 non-null float64\n",
      "trips_in_first_30_days    40000 non-null int64\n",
      "luxury_car_user           40000 non-null bool\n",
      "weekday_pct               40000 non-null float64\n",
      "no_rating_by_driver       40000 non-null bool\n",
      "city_Astapor              40000 non-null uint8\n",
      "city_King's Landing       40000 non-null uint8\n",
      "city_Winterfell           40000 non-null uint8\n",
      "phone_Android             40000 non-null uint8\n",
      "phone_Unknown             40000 non-null uint8\n",
      "phone_iPhone              40000 non-null uint8\n",
      "dtypes: bool(2), float64(6), int64(1), uint8(6)\n",
      "memory usage: 2.4 MB\n"
     ]
    }
   ],
   "source": [
    "churn_clean.info()"
   ]
  },
  {
   "cell_type": "code",
   "execution_count": 160,
   "metadata": {},
   "outputs": [
    {
     "data": {
      "text/plain": [
       "RandomForestClassifier(bootstrap=True, class_weight='balanced',\n",
       "            criterion='gini', max_depth=3, max_features=4,\n",
       "            max_leaf_nodes=None, min_impurity_decrease=1e-07,\n",
       "            min_impurity_split=None, min_samples_leaf=1,\n",
       "            min_samples_split=2, min_weight_fraction_leaf=0.0,\n",
       "            n_estimators=2000, n_jobs=1, oob_score=True, random_state=None,\n",
       "            verbose=0, warm_start=False)"
      ]
     },
     "execution_count": 160,
     "metadata": {},
     "output_type": "execute_result"
    }
   ],
   "source": [
    "# Random forest model (best parameters chosen from grid search)\n",
    "rf = RandomForestClassifier(bootstrap=True, class_weight='balanced',\n",
    "            criterion='gini', max_depth=3, max_features=4,\n",
    "            max_leaf_nodes=None, min_impurity_decrease=1e-07,\n",
    "            min_samples_leaf=1, min_samples_split=2,\n",
    "            min_weight_fraction_leaf=0.0, n_estimators=2000, n_jobs=1,\n",
    "            oob_score=True, random_state=None, verbose=0, warm_start=False)\n",
    "\n",
    "rf.fit(X, y)"
   ]
  },
  {
   "cell_type": "code",
   "execution_count": 161,
   "metadata": {},
   "outputs": [
    {
     "data": {
      "text/plain": [
       "GradientBoostingClassifier(criterion='friedman_mse', init=None,\n",
       "              learning_rate=0.1, loss='deviance', max_depth=4,\n",
       "              max_features=1.0, max_leaf_nodes=None,\n",
       "              min_impurity_decrease=0.0, min_impurity_split=None,\n",
       "              min_samples_leaf=100, min_samples_split=2,\n",
       "              min_weight_fraction_leaf=0.0, n_estimators=400,\n",
       "              presort='auto', random_state=None, subsample=1.0, verbose=0,\n",
       "              warm_start=False)"
      ]
     },
     "execution_count": 161,
     "metadata": {},
     "output_type": "execute_result"
    }
   ],
   "source": [
    "# Gradient boosting model (best parameters chosen from grid search)\n",
    "gbc = GradientBoostingClassifier(learning_rate=.1,\n",
    "                                 max_depth=4,\n",
    "                                 max_features=1.0,\n",
    "                                 min_samples_leaf=100,\n",
    "                                 n_estimators=400)\n",
    "gbc.fit(X, y)"
   ]
  },
  {
   "cell_type": "code",
   "execution_count": 162,
   "metadata": {},
   "outputs": [
    {
     "data": {
      "text/plain": [
       "KNeighborsClassifier(algorithm='auto', leaf_size=30, metric='minkowski',\n",
       "           metric_params=None, n_jobs=1, n_neighbors=15, p=2,\n",
       "           weights='uniform')"
      ]
     },
     "execution_count": 162,
     "metadata": {},
     "output_type": "execute_result"
    }
   ],
   "source": [
    "# K nearest neighbors model (best parameters chosen from grid search)\n",
    "knn = KNeighborsClassifier(n_neighbors=15)\n",
    "knn.fit(X, y)"
   ]
  },
  {
   "cell_type": "code",
   "execution_count": 169,
   "metadata": {},
   "outputs": [
    {
     "data": {
      "text/plain": [
       "Pipeline(memory=None,\n",
       "     steps=[('logreg', LogisticRegression(C=1.0, class_weight=None, dual=False, fit_intercept=True,\n",
       "          intercept_scaling=1, max_iter=100, multi_class='ovr', n_jobs=1,\n",
       "          penalty='l2', random_state=None, solver='liblinear', tol=0.0001,\n",
       "          verbose=0, warm_start=False))])"
      ]
     },
     "execution_count": 169,
     "metadata": {},
     "output_type": "execute_result"
    }
   ],
   "source": [
    "# Logistic regression model (best parameters chosen from grid search)\n",
    "logreg = Pipeline([('logreg', LogisticRegression())])\n",
    "logreg.fit(X, y)"
   ]
  },
  {
   "cell_type": "code",
   "execution_count": null,
   "metadata": {},
   "outputs": [
    {
     "data": {
      "text/plain": [
       "SVC(C=1.0, cache_size=200, class_weight=None, coef0=0.0,\n",
       "  decision_function_shape='ovr', degree=3, gamma='auto', kernel='rbf',\n",
       "  max_iter=-1, probability=True, random_state=None, shrinking=True,\n",
       "  tol=0.001, verbose=False)"
      ]
     },
     "execution_count": 171,
     "metadata": {},
     "output_type": "execute_result"
    }
   ],
   "source": [
    "# SVC model (best parameters chosen from grid search)\n",
    "svc = SVC(probability=True)\n",
    "svc.fit(X, y)"
   ]
  },
  {
   "cell_type": "code",
   "execution_count": null,
   "metadata": {
    "collapsed": true
   },
   "outputs": [],
   "source": [
    "# Ensemble model\n",
    "ensemble = EnsembleModel([gbc,svc,logreg,knn])\n",
    "ensemble.fit(X,y)\n",
    "ensemble_preds = ensemble.predict(X)"
   ]
  },
  {
   "cell_type": "markdown",
   "metadata": {},
   "source": [
    "The predicted probabilities, false positive rate (FPR), and true positive rate (TPR) were calculated for each model in order to compare and evaluate model performance"
   ]
  },
  {
   "cell_type": "code",
   "execution_count": null,
   "metadata": {
    "collapsed": true
   },
   "outputs": [],
   "source": [
    "# Predict probabilities and calculate fpr/tpr for each model\n",
    "y_pred_rf = rf.predict_proba(X)[:, 1]\n",
    "fpr_rf, tpr_rf, thresholds = roc_curve(y, y_pred_rf)\n",
    "\n",
    "y_pred_gbc = gbc.predict_proba(X)[:, 1]\n",
    "fpr_gbc, tpr_gbc, thresholds = roc_curve(y, y_pred_gbc)\n",
    "\n",
    "y_pred_knn = knn.predict_proba(X)[:, 1]\n",
    "fpr_knn, tpr_knn, thresholds = roc_curve(y, y_pred_knn)\n",
    "\n",
    "y_pred_log = logreg.predict_proba(X)[:, 1]\n",
    "fpr_log, tpr_log, thresholds = roc_curve(y, y_pred_log)\n",
    "\n",
    "y_pred_svc = svc.predict_proba(X)[:, 1]\n",
    "fpr_svc, tpr_svc, thresholds = roc_curve(y, y_pred_svc)\n",
    "\n",
    "y_pred_ens = np.mean([y_pred_rf, y_pred_gbc, y_pred_knn, y_pred_log, y_pred_svc], axis=0)\n",
    "fpr_ens, tpr_ens, thresholds = roc_curve(y, y_pred_ens)"
   ]
  },
  {
   "cell_type": "code",
   "execution_count": null,
   "metadata": {},
   "outputs": [],
   "source": [
    "# Plot ROC curves for each model\n",
    "\n",
    "plt.figure(figsize=(12,8))\n",
    "\n",
    "plt.plot(fpr_rf, tpr_rf, label='random forest')\n",
    "plt.plot(fpr_gbc, tpr_gbc, label='gbc')\n",
    "plt.plot(fpr_knn, tpr_knn, label='knn')\n",
    "plt.plot(fpr_log, tpr_log, label='logistic')\n",
    "plt.plot(fpr_svc, tpr_svc, label='SVC')\n",
    "plt.plot(fpr_ens, tpr_ens, label='ensemble')\n",
    "\n",
    "plt.xlabel('FPR/Sensitivity', fontsize='13', fontweight='bold')\n",
    "plt.ylabel('TPR/Specificity', fontsize='13', fontweight='bold')\n",
    "plt.title('ROC Curve', fontsize='15', fontweight='bold')\n",
    "plt.legend();"
   ]
  },
  {
   "cell_type": "markdown",
   "metadata": {},
   "source": [
    "## Feature importances\n",
    "\n",
    "As the gradient boosting model gave the superior performance of the models tested, I examined sklearn's feature importances method to determine the top variables attributing that may attribute to predicting churn. As numerical variables typically have higher feature importances compared to categorical variables, variables were only compared within these groups."
   ]
  },
  {
   "cell_type": "code",
   "execution_count": null,
   "metadata": {
    "collapsed": true
   },
   "outputs": [],
   "source": [
    "avg dist\n",
    "weekday percentage\n",
    "trip in first 30 days\n",
    "\n"
   ]
  },
  {
   "cell_type": "markdown",
   "metadata": {},
   "source": [
    "## Conclusion"
   ]
  },
  {
   "cell_type": "markdown",
   "metadata": {},
   "source": [
    "Based on this analysis and modeling exercise, I suggest several actions that Company X can take in order to reduce churn:\n",
    "    \n",
    " - Focus on users in Astapor and who use Android users\n",
    " - Non-luxury car satisfaction\n",
    " - promote new users\n",
    " - increase number of users to prevent surges"
   ]
  }
 ],
 "metadata": {
  "kernelspec": {
   "display_name": "Python 3",
   "language": "python",
   "name": "python3"
  },
  "language_info": {
   "codemirror_mode": {
    "name": "ipython",
    "version": 3
   },
   "file_extension": ".py",
   "mimetype": "text/x-python",
   "name": "python",
   "nbconvert_exporter": "python",
   "pygments_lexer": "ipython3",
   "version": "3.6.3"
  }
 },
 "nbformat": 4,
 "nbformat_minor": 2
}
